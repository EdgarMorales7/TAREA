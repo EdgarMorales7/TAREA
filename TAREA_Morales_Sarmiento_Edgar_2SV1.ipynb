{
  "nbformat": 4,
  "nbformat_minor": 0,
  "metadata": {
    "colab": {
      "name": "TAREA - Morales Sarmiento Edgar - 2SV1",
      "provenance": [],
      "collapsed_sections": []
    },
    "kernelspec": {
      "name": "python3",
      "display_name": "Python 3"
    }
  },
  "cells": [
    {
      "cell_type": "markdown",
      "metadata": {
        "id": "RFoe-knvHlEq"
      },
      "source": [
        "PROBLEMA 1\n"
      ]
    },
    {
      "cell_type": "code",
      "metadata": {
        "id": "pbpXciwiHtny",
        "outputId": "051b03fb-8e5c-4b99-f842-73c153a416de",
        "colab": {
          "base_uri": "https://localhost:8080/"
        }
      },
      "source": [
        "print(\"El siguiente programa lee una variable de tipo entera, asi como indica si es un numero par o impar:\\n\")\n",
        "x=float(input(\"La primera variable de tipo entera es:\"))\n",
        "print(\"El cual su valor es:\")\n",
        "if x%2==0:\n",
        "  print(\"Par\")\n",
        "else:\n",
        "  print(\"Impar\")\n",
        "y=float(input(\"\\nLa segunda variable de tipo entera es:\"))\n",
        "print(\"El cual su valor es:\")\n",
        "if y%2==0:\n",
        "  print(\"Par\")\n",
        "else:\n",
        "  print(\"Impar\")\n"
      ],
      "execution_count": null,
      "outputs": [
        {
          "output_type": "stream",
          "text": [
            "El siguiente programa lee una variable de tipo entera, asi como indica si es un numero par o impar:\n",
            "\n",
            "La primera variable de tipo entera es:765\n",
            "El cual su valor es:\n",
            "Impar\n",
            "\n",
            "La segunda variable de tipo entera es:980\n",
            "El cual su valor es:\n",
            "Par\n"
          ],
          "name": "stdout"
        }
      ]
    },
    {
      "cell_type": "markdown",
      "metadata": {
        "id": "mQDU1W8QU4E_"
      },
      "source": [
        "PROBLEMA 2"
      ]
    },
    {
      "cell_type": "code",
      "metadata": {
        "id": "fVC1JhuAU7ro",
        "outputId": "1d2dffdc-bf3f-439a-98f2-109647249e3a",
        "colab": {
          "base_uri": "https://localhost:8080/"
        }
      },
      "source": [
        "print(\"En el siguiente programa se introducira una cadena de caracteres y se repetira de acuerdo al numero entero que teclee el usuario:\\n\")\n",
        "\n",
        "caracter=str(input(\"\\nIntroduzca los caracteres:\"))\n",
        "\n",
        "numero=int(input(\"\\nIntroduzca el numero:\"))\n",
        "\n",
        "print(caracter*numero)"
      ],
      "execution_count": null,
      "outputs": [
        {
          "output_type": "stream",
          "text": [
            "En el siguiente programa se introducira una cadena de caracteres y se repetira de acuerdo al numero entero que teclee el usuario:\n",
            "\n",
            "\n",
            "Introduzca los caracteres:5\n",
            "\n",
            "Introduzca el numero:7\n",
            "5555555\n"
          ],
          "name": "stdout"
        }
      ]
    },
    {
      "cell_type": "markdown",
      "metadata": {
        "id": "Fe5V1P5VcIhk"
      },
      "source": [
        "PROBLEMA 3"
      ]
    },
    {
      "cell_type": "code",
      "metadata": {
        "id": "g2Ztdth4iP_k",
        "outputId": "3b1e6144-ff01-4115-9f40-d294aacfd9b2",
        "colab": {
          "base_uri": "https://localhost:8080/"
        }
      },
      "source": [
        "print(\"El programa calcula el pago de un empleado de acuerdo a las horas diarias que trabaja:\")\n",
        "horas=int(input(\"\\nNumero de horas:\"))\n",
        "print(\"\\nEl pago por dia es:\", horas*150)\n",
        "print(\"\\nEl pago por 5 dias es:\", 5*horas*150)\n",
        "print(\"\\nEl pago por 20 dias es:\", 20*horas*150)"
      ],
      "execution_count": null,
      "outputs": [
        {
          "output_type": "stream",
          "text": [
            "El programa calcula el pago de un empleado de acuerdo a las horas diarias que trabaja:\n",
            "\n",
            "Numero de horas:6\n",
            "\n",
            "El pago por dia es: 900\n",
            "\n",
            "El pago por 5 dias es: 4500\n",
            "\n",
            "El pago por 20 dias es: 18000\n"
          ],
          "name": "stdout"
        }
      ]
    },
    {
      "cell_type": "markdown",
      "metadata": {
        "id": "C-VHE_n1l0Yk"
      },
      "source": [
        "PROBLEMA 4"
      ]
    },
    {
      "cell_type": "code",
      "metadata": {
        "id": "NIxCIVF_l2kh"
      },
      "source": [
        "print(\"El siguiente programa muestra la representacion de una calculadora\\n\")\n",
        "print(\"MENU\")\n",
        "resultado=''\n",
        "while resultado!='NO':\n",
        "  MENU=['SUMA','RESTA','MULTIPLICACION','DIVISION']\n",
        "  print(MENU)\n",
        "  print(\"\\nIntroduzca la operacion\")\n",
        "  MENU=input()\n",
        "  while (MENU >= 5):\n",
        "    print(\"\\nIntroduzca la operacion\")\n",
        "    MENU=int(input())\n",
        "  if MENU==1:\n",
        "    print(\"\\nIntroduzca el o los primeros numeros\")\n",
        "    x=float(input())\n",
        "    print (\"\\nIntroduzca el o los segundos numeros\")\n",
        "    y=float(input())\n",
        "    print(\"\\nLa suma de\",x,\"y de\",y,\"es: \",x+y)\n",
        "  elif MENU==2:\n",
        "    print(\"\\nIntroduzca el o los primeros numeros\")\n",
        "    x=float(input())\n",
        "    print (\"\\nIntroduzca el o los segundos numeros\")\n",
        "    y=float(input())\n",
        "    print(\"\\nLa resta de\",x,\"y de\",y,\"es: \",x-y)\n",
        "  elif MENU==3:\n",
        "    print(\"\\nIntroduzca el o los primeros numeros\")\n",
        "    x=float(input())\n",
        "    print (\"\\nIntroduzca el o los segundos numeros\")\n",
        "    y=float(input())\n",
        "    print(\"\\nLa multiplicacion de\",x,\"y de\",y,\"es: \",x*y)\n",
        "  elif MENU==4:\n",
        "    print(\"\\nIntroduzca el o los primeros numeros\")\n",
        "    x=float(input())\n",
        "    print (\"\\nIntroduzca el o los segundos numeros\")\n",
        "    y=float(input())\n",
        "    while y==0:\n",
        "      print(\"\\nIntroduzca un numero distinto a 0\")\n",
        "      y=float(input())\n",
        "    print(\"\\nLa division de\",x,\"entre\",y,\"es: \",x/y)\n",
        "  print(\"\\nRegistar otra operacion distinta: \")\n",
        "  resultado=input()\n",
        "\n"
      ],
      "execution_count": null,
      "outputs": []
    },
    {
      "cell_type": "markdown",
      "metadata": {
        "id": "rEIVegERmHrL"
      },
      "source": [
        "PROBLEMA 5"
      ]
    },
    {
      "cell_type": "code",
      "metadata": {
        "id": "yo8nQWzfmJXc",
        "outputId": "0effabd2-4ac0-481e-d088-c75bb2efdf04",
        "colab": {
          "base_uri": "https://localhost:8080/"
        }
      },
      "source": [
        "print(\"El programa calcula el peso de acuerdo a la cantidad de payasos y juegos de mesa: \\n\")\n",
        "payaso=0.150\n",
        "juego=0.170\n",
        "peso=payaso*0.150+juego*0.170\n",
        "payaso=float(input(\"Numero de payasos:\"))\n",
        "juego=float(input(\"\\nNumero de juegos:\")) \n",
        "print(\"\\nEl peso total en kg es de: \", payaso*0.150+juego*0.170)\n",
        "peso=float(payaso*0.150+juego*0.170)\n",
        "if peso > 10:\n",
        "    print(\"\\nERROR\")\n"
      ],
      "execution_count": 16,
      "outputs": [
        {
          "output_type": "stream",
          "text": [
            "El programa calcula el peso de acuerdo a la cantidad de payasos y juegos de mesa: \n",
            "\n",
            "Numero de payasos:45\n",
            "\n",
            "Numero de juegos:30\n",
            "\n",
            "El peso total en kg es de:  11.850000000000001\n",
            "\n",
            "ERROR\n"
          ],
          "name": "stdout"
        }
      ]
    },
    {
      "cell_type": "markdown",
      "metadata": {
        "id": "DGIxl4I_suu2"
      },
      "source": [
        "PROBLEMA 6"
      ]
    },
    {
      "cell_type": "code",
      "metadata": {
        "id": "JPs7eqLvsxON",
        "outputId": "b3228e5c-2b22-4b29-f687-b0d8cd3892b4",
        "colab": {
          "base_uri": "https://localhost:8080/"
        }
      },
      "source": [
        "print(\"Este programa determinar el porcentaje de impuestos segun el salario del usuario, asi como el total de impuestos a pagar y el salario final\\n\")\n",
        "salario=float(input(\"\\nSalario:\"))\n",
        "if salario<10000:\n",
        "  print(\"\\nImpuesto del 5%\")\n",
        "  print(\"\\nPor lo tanto, el total de impuestos a pagar es:\", salario*0.05)\n",
        "  print(\"\\nEntonces, el salario final es de:\", salario-salario*0.05)\n",
        "  print(\"\\nTRUE\")\n",
        "elif salario>=10000 and salario<15000:\n",
        "  print(\"\\nImpuesto del 10%\")\n",
        "  print(\"\\nPor lo tanto, el total de impuestos a pagar es:\", salario*0.10)\n",
        "  print(\"\\nEntonces, el salario final es de:\", salario-salario*0.10)\n",
        "  print(\"\\nTRUE\")\n",
        "elif salario>=15000 and salario<20000:\n",
        "  print(\"\\nImpuesto del 15%\")\n",
        "  print(\"\\nPor lo tanto, el total de impuestos a pagar es:\", salario*0.15)\n",
        "  print(\"\\nEntonces, el salario final es de:\", salario-salario*0.15)\n",
        "  print(\"\\nTRUE\")\n",
        "elif salario>20000:\n",
        "  print(\"\\nImpuesto del 18%\")\n",
        "  print(\"\\nPor lo tanto, el total de impuestos a pagar es:\", salario*0.18)\n",
        "  print(\"\\nEntonces, el salario final es de:\", salario-salario*0.18)\n",
        "  print(\"\\nTRUE\")"
      ],
      "execution_count": null,
      "outputs": [
        {
          "output_type": "stream",
          "text": [
            "Este programa determinar el porcentaje de impuestos segun el salario del usuario, asi como el total de impuestos a pagar y el salario final\n",
            "\n",
            "\n",
            "Salario:12800\n",
            "\n",
            "Impuesto del 10%\n",
            "\n",
            "Por lo tanto, el total de impuestos a pagar es: 1280.0\n",
            "\n",
            "Entonces, el salario final es de: 11520.0\n",
            "\n",
            "TRUE\n"
          ],
          "name": "stdout"
        }
      ]
    },
    {
      "cell_type": "markdown",
      "metadata": {
        "id": "g5LcPbKE06t2"
      },
      "source": [
        "PROBLEMA 7"
      ]
    },
    {
      "cell_type": "code",
      "metadata": {
        "id": "1nrM5OP00815",
        "outputId": "be133a13-0431-4a0b-adde-11def29ea59e",
        "colab": {
          "base_uri": "https://localhost:8080/"
        }
      },
      "source": [
        "print(\"Este programa pide la edad y opcupacion del usuario al momentop de asistir a un museo para calcular el impuesto correspondiente:\")\n",
        "edad=float(input(\"\\nEdad:\"))\n",
        "if edad<4:\n",
        "  print(\"\\nImpuesto: Gratis\")\n",
        "elif edad>=4 and edad<=16:\n",
        "  print(\"\\nImpuesto: $50\")\n",
        "elif edad>16:\n",
        "  print(\"\\nImpuesto: $100\")\n",
        "a='Estudiante con credencial'\n",
        "b='Docente con credencial'\n",
        "c='INAPAM'\n",
        "ocupacion=input(\"\\nOcupacion: \")\n",
        "if ocupacion==a:\n",
        "  print(\"\\nImpuesto: 10%\")\n",
        "elif ocupacion==b: \n",
        "  print(\"\\nImpuesto: 30%\")\n",
        "elif ocupacion==c:\n",
        "  print(\"\\nImpuesto: 50%\")\n",
        "else: \n",
        "  print(\"\\nImpuesto: 0%\")"
      ],
      "execution_count": null,
      "outputs": [
        {
          "output_type": "stream",
          "text": [
            "Este programa pide la edad y opcupacion del usuario al momentop de asistir a un museo para calcular el impuesto correspondiente:\n",
            "\n",
            "Edad:12\n",
            "\n",
            "Impuesto: $50\n",
            "\n",
            "Ocupacion: Ninguno\n",
            "\n",
            "Impuesto: 0%\n"
          ],
          "name": "stdout"
        }
      ]
    },
    {
      "cell_type": "markdown",
      "metadata": {
        "id": "vYgGxVPd5l7L"
      },
      "source": [
        "PROBLEMA 8"
      ]
    },
    {
      "cell_type": "code",
      "metadata": {
        "id": "xJBYsZ3O5oNx",
        "outputId": "42053ec3-ac65-4ad3-b90c-3156f9c27132",
        "colab": {
          "base_uri": "https://localhost:8080/"
        }
      },
      "source": [
        "print(\"El siguiente programa muestra una piramide con asteriscos de acuerdo al numero entero que se introduzca: \")\n",
        "triangulo=int(input(\"\\nIntroduzca un numero entero: \"))\n",
        "numero = 0\n",
        "while (numero < triangulo):\n",
        "  numero = numero + 1\n",
        "  print(numero*\"*\")"
      ],
      "execution_count": 15,
      "outputs": [
        {
          "output_type": "stream",
          "text": [
            "El siguiente programa muestra una piramide con asteriscos de acuerdo al numero entero que se introduzca: \n",
            "\n",
            "Introduzca un numero entero: 5\n",
            "*\n",
            "**\n",
            "***\n",
            "****\n",
            "*****\n"
          ],
          "name": "stdout"
        }
      ]
    },
    {
      "cell_type": "markdown",
      "metadata": {
        "id": "CNG0371nAVBf"
      },
      "source": [
        "PROBLEMA 9"
      ]
    },
    {
      "cell_type": "code",
      "metadata": {
        "id": "MAxuKw2JAXjB",
        "outputId": "2bab6fa3-9f37-4721-ca13-3e966672ce1b",
        "colab": {
          "base_uri": "https://localhost:8080/"
        }
      },
      "source": [
        "print(\"El siguiente programa permite registrar cualquier numero entero positivo y devolver su factorial:\")\n",
        "numero=int(input(\"Introduzca un numero entero positivo:\"))\n",
        "def factorial(numero):\n",
        "  if (numero==0):\n",
        "    return 1\n",
        "  else:\n",
        "    return numero*factorial(numero-1)\n",
        "print(\"El factorial de:\" +str(numero) + \" es:\" +str(factorial(numero))) "
      ],
      "execution_count": null,
      "outputs": [
        {
          "output_type": "stream",
          "text": [
            "El siguiente programa permite registrar cualquier numero entero positivo y devolver su factorial:\n",
            "Introduzca un numero entero positivo:6\n",
            "El factorial de:6 es:720\n"
          ],
          "name": "stdout"
        }
      ]
    },
    {
      "cell_type": "markdown",
      "metadata": {
        "id": "wQmO3ubIOgtX"
      },
      "source": [
        "PROBLEMA 10"
      ]
    },
    {
      "cell_type": "code",
      "metadata": {
        "id": "L1VWaMMWOiRb",
        "outputId": "4095b470-0180-4ef4-b849-7ac2f2ce351b",
        "colab": {
          "base_uri": "https://localhost:8080/"
        }
      },
      "source": [
        "print(\"El siguiente programa permite calcular el area de un cierculo, asi como el volumen de un cilindro: \")\n",
        "pi=3.1416\n",
        "radio=float(input(\"\\nIntroduzca el valor del radio del circulo: \"))\n",
        "AREA=(pi*(radio*radio))\n",
        "print(\"\\nEl area del circulo es: \", AREA)\n",
        "altura=float(input(\"\\nIntroduzca el valor de la altura del cilindro: \"))\n",
        "VOLUMEN=AREA*altura\n",
        "print(\"El volumen del cilindro es: \", VOLUMEN)"
      ],
      "execution_count": 13,
      "outputs": [
        {
          "output_type": "stream",
          "text": [
            "El siguiente programa permite calcular el area de un cierculo, asi como el volumen de un cilindro: \n",
            "\n",
            "Introduzca el valor del radio del circulo: 5\n",
            "\n",
            "El area del circulo es:  78.53999999999999\n",
            "\n",
            "Introduzca el valor de la altura del cilindro: 8\n",
            "El volumen del cilindro es:  628.3199999999999\n"
          ],
          "name": "stdout"
        }
      ]
    }
  ]
}